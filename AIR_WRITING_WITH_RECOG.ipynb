{
 "cells": [
  {
   "cell_type": "code",
   "execution_count": 1,
   "metadata": {},
   "outputs": [],
   "source": [
    "\n",
    "#Author : Navneet Kumar\n",
    "#Co-Author: Ayush jain"
   ]
  },
  {
   "cell_type": "code",
   "execution_count": 2,
   "metadata": {},
   "outputs": [],
   "source": [
    "import cv2\n",
    "import mediapipe as mp\n",
    "import time\n",
    "import numpy as np\n",
    "import matplotlib.pyplot as plt"
   ]
  },
  {
   "cell_type": "code",
   "execution_count": 3,
   "metadata": {},
   "outputs": [],
   "source": [
    "import math\n",
    "def closed_fingers(lmlist,img):\n",
    "    fingers = []\n",
    "    if len(lmlist) > 20:  # Ensure all landmarks are present\n",
    "        cv2.putText(img, \"Hand Detected\", (10,50), cv2.FONT_HERSHEY_PLAIN, 3, (255,0,255), 3)\n",
    "        # Thumb\n",
    "        if lmlist[4][2] > lmlist[3][2]:\n",
    "            fingers.append(\"Thumb\")\n",
    "        # Index finger\n",
    "        if lmlist[8][2] > lmlist[6][2]:\n",
    "            fingers.append(\"Index\")\n",
    "        # Middle finger\n",
    "        if lmlist[12][2] > lmlist[10][2]:\n",
    "            fingers.append(\"Middle\")\n",
    "        # Ring finger\n",
    "        if lmlist[16][2] > lmlist[14][2]:\n",
    "            fingers.append(\"Ring\")\n",
    "        # Pinky\n",
    "        if lmlist[20][2] > lmlist[18][2]:\n",
    "            fingers.append(\"Pinky\")\n",
    "\n",
    "    return fingers\n",
    "\n",
    "def finger_close_dist(tip,adj,zero):\n",
    "    #two adjacent points on same finger\n",
    "    # distance from zero to tip \n",
    "    dist1 = math.sqrt((zero[0] - tip[0])**2 + (zero[1] - tip[1])**2)\n",
    "    dist2 =  math.sqrt((zero[0] - adj[0])**2 + (zero[1] - adj[1])**2)\n",
    "    if(dist2>=dist1):\n",
    "        return True\n",
    "    else:\n",
    "        return False\n",
    "\n",
    "def closed_fingers_v2(lmlist,img):\n",
    "    fingers = []\n",
    "    if len(lmlist) > 20:  # Ensure all landmarks are present\n",
    "        cv2.putText(img, \"Hand Detected\", (10,50), cv2.FONT_HERSHEY_PLAIN, 3, (255,255,255), 3)\n",
    "        zero= lmlist[0][1],lmlist[0][2]\n",
    "        # Thumb\n",
    "        if finger_close_dist(lmlist[4][1:3],lmlist[3][1:3],zero):\n",
    "            #add extra checks for thumb\n",
    "\n",
    "            fingers.append(\"Thumb\")\n",
    "        # Index finger\n",
    "        if finger_close_dist(lmlist[8][1:3],lmlist[6][1:3],zero):\n",
    "            fingers.append(\"Index\")\n",
    "        # Middle finger\n",
    "        if finger_close_dist(lmlist[12][1:3],lmlist[10][1:3],zero):\n",
    "            fingers.append(\"Middle\")\n",
    "        # Ring finger\n",
    "        if finger_close_dist(lmlist[16][1:3],lmlist[14][1:3],zero):\n",
    "            fingers.append(\"Ring\")\n",
    "        # Pinky\n",
    "        if finger_close_dist(lmlist[20][1:3],lmlist[18][1:3],zero):\n",
    "            fingers.append(\"Pinky\")\n",
    "            \n",
    "    return fingers\n",
    "\n",
    "def up_fingers(closed_list):\n",
    "    open_fingers=['Thumb','Index','Middle','Ring','Pinky']\n",
    "    for i in closed_list:\n",
    "        open_fingers.remove(i)\n",
    "    return open_fingers\n",
    "\n",
    "def ispointing(closedfingers,img):\n",
    "    if 'Middle' in closedfingers and 'Ring' in closedfingers and 'Pinky' in closedfingers and 'Index' not in closedfingers:\n",
    "        cv2.putText(img, \"Pointing\", (10,100), cv2.FONT_HERSHEY_PLAIN, 3, (255,255,255), 3)\n",
    "        return True\n",
    "    return False\n",
    "\n",
    "\n",
    "    \n",
    "\n",
    "        "
   ]
  },
  {
   "cell_type": "code",
   "execution_count": 4,
   "metadata": {},
   "outputs": [],
   "source": [
    "\n",
    "class writer:\n",
    "    def __init__(self):\n",
    "        self.points=[]\n",
    "        self.Zdist=-0.05\n",
    "        self.thres=0.03\n",
    "        self.dir='bi'\n",
    "        self.writethres=0\n",
    "    def calibrate(self,currentZ,thres,dir,writethres):\n",
    "\n",
    "        self.Zdist=currentZ\n",
    "        self.thres=thres\n",
    "        self.dir=dir\n",
    "        self.writethres=writethres\n",
    "    def on_canvas(self,point):\n",
    "        if(self.dir=='bi'):\n",
    "            if(abs(point.z-self.Zdist)<self.thres):\n",
    "                return True\n",
    "            return False\n",
    "        elif(self.dir=='uni1'):\n",
    "            if(point.z<self.Zdist):\n",
    "                return True\n",
    "            return False\n",
    "        elif(self.dir=='uni2'):\n",
    "            if(point.z>self.Zdist):\n",
    "                return True\n",
    "            return False\n",
    "      \n",
    "    def write(self,point):\n",
    "        if(self.on_canvas(point)):\n",
    "            self.points.append(point)\n",
    "        # if len(self.points)>1:\n",
    "            # cv2.line(self.img,self.points[-2],self.points[-1],(255,0,0),5)\n",
    "    def writeV2(self,point):\n",
    "        # compare with last point\n",
    "        if(len(self.points)>1):\n",
    "            if(math.sqrt((self.points[-1].x-point.x)**2 + (self.points[-1].y-point.y)**2)<self.writethres and self.on_canvas(point)):\n",
    "                self.points.append(point)\n",
    "                return True\n",
    "        elif(self.on_canvas(point)):\n",
    "            self.points.append(point)\n",
    "            return True\n",
    "\n",
    "        return False\n",
    "    def writeV3(self,point,timegap):\n",
    "        # check time gap between two points\n",
    "        if(len(self.points)>0):\n",
    "            if(timegap<0.5 and self.on_canvas(point)):\n",
    "                self.points.append(point)\n",
    "                return True\n",
    "        elif(self.on_canvas(point)):\n",
    "            self.points.append(point)\n",
    "            return True\n",
    "\n",
    "    def clear(self):\n",
    "        self.points.clear()\n",
    "    # def make_line(self,img):\n",
    "    #     if len(self.points)>1:\n",
    "    #         for i in range(len(self.points)-1):\n",
    "    #             cv2.line(self.img,self.points[i],self.points[i+1],(255,0,0),5)\n",
    "    def draw(self,img):\n",
    "        if len(self.points)>1:\n",
    "            for i in range(len(self.points)-1):\n",
    "                cv2.line(img,(int(self.points[i].x),int(self.points[i].y)),(int(self.points[i+1].x),int(self.points[i+1].y)),(255,0,0),5)\n",
    "        return img\n",
    "    def range_points(self):\n",
    "        if len(self.points)>1:\n",
    "            x_max=self.points[0].x\n",
    "            x_min=self.points[0].x\n",
    "            y_max=self.points[0].y\n",
    "            y_min=self.points[0].y\n",
    "            for i in self.points:\n",
    "                if i.x>x_max:\n",
    "                    x_max=i.x\n",
    "                if i.x<x_min:\n",
    "                    x_min=i.x\n",
    "                if i.y>y_max:\n",
    "                    y_max=i.y\n",
    "                if i.y<y_min:\n",
    "                    y_min=i.y\n",
    "            return x_min,x_max,y_min,y_max\n",
    "        return 0,0,0,0"
   ]
  },
  {
   "cell_type": "code",
   "execution_count": 5,
   "metadata": {},
   "outputs": [],
   "source": [
    "class Mypoint:\n",
    "    def __init__(self,x,y,z):\n",
    "        self.x=x\n",
    "        self.y=y\n",
    "        self.z=z\n"
   ]
  },
  {
   "cell_type": "code",
   "execution_count": 6,
   "metadata": {},
   "outputs": [],
   "source": [
    "def Draw(img,points):\n",
    "    if len(points)>1:\n",
    "        for i in range(len(points)-1):\n",
    "            cv2.line(img,(int(points[i].x),int(points[i].y)),(int(points[i+1].x),int(points[i+1].y)),(255,0,0),5)\n",
    "            "
   ]
  },
  {
   "cell_type": "code",
   "execution_count": 7,
   "metadata": {},
   "outputs": [],
   "source": [
    "#a 10 length numpy array\n",
    "pointer_table=np.zeros(10,dtype=bool)\n"
   ]
  },
  {
   "cell_type": "code",
   "execution_count": 8,
   "metadata": {},
   "outputs": [],
   "source": [
    "import cv2\n",
    "import threading\n",
    "\n",
    "class VideoCaptureThreading:\n",
    "    def __init__(self, src=0):\n",
    "        self.src = src\n",
    "        self.cap = cv2.VideoCapture(self.src)\n",
    "        self.grabbed, self.frame = self.cap.read()\n",
    "        self.started = False\n",
    "        self.read_lock = threading.Lock()\n",
    "\n",
    "    def set(self, var1, var2):\n",
    "        self.cap.set(var1, var2)\n",
    "\n",
    "    def start(self):\n",
    "        if self.started:\n",
    "            print('[!] Threaded video capturing has already been started.')\n",
    "            return None\n",
    "        self.started = True\n",
    "        self.thread = threading.Thread(target=self.update, args=())\n",
    "        self.thread.start()\n",
    "        return self\n",
    "\n",
    "    def update(self):\n",
    "        while self.started:\n",
    "            grabbed, frame = self.cap.read()\n",
    "            with self.read_lock:\n",
    "                self.grabbed = grabbed\n",
    "                self.frame = frame\n",
    "\n",
    "    def read(self):\n",
    "        with self.read_lock:\n",
    "            frame = self.frame.copy()\n",
    "            grabbed = self.grabbed\n",
    "        return grabbed, frame\n",
    "\n",
    "    def stop(self):\n",
    "        self.started = False\n",
    "        self.thread.join()\n",
    "\n",
    "    def __exit__(self, exec_type, exc_value, traceback):\n",
    "        self.cap.release()"
   ]
  },
  {
   "cell_type": "code",
   "execution_count": 9,
   "metadata": {},
   "outputs": [
    {
     "ename": "TypeError",
     "evalue": "Error when deserializing class 'InputLayer' using config={'batch_shape': [None, 28, 28, 1], 'dtype': 'float32', 'sparse': False, 'name': 'input_layer'}.\n\nException encountered: Unrecognized keyword arguments: ['batch_shape']",
     "output_type": "error",
     "traceback": [
      "\u001b[1;31m---------------------------------------------------------------------------\u001b[0m",
      "\u001b[1;31mTypeError\u001b[0m                                 Traceback (most recent call last)",
      "Cell \u001b[1;32mIn[9], line 3\u001b[0m\n\u001b[0;32m      1\u001b[0m \u001b[38;5;66;03m# load the model tensorflow\\\u001b[39;00m\n\u001b[0;32m      2\u001b[0m \u001b[38;5;28;01mfrom\u001b[39;00m \u001b[38;5;21;01mtensorflow\u001b[39;00m\u001b[38;5;21;01m.\u001b[39;00m\u001b[38;5;21;01mkeras\u001b[39;00m\u001b[38;5;21;01m.\u001b[39;00m\u001b[38;5;21;01mmodels\u001b[39;00m \u001b[38;5;28;01mimport\u001b[39;00m load_model\n\u001b[1;32m----> 3\u001b[0m model\u001b[38;5;241m=\u001b[39m\u001b[43mload_model\u001b[49m\u001b[43m(\u001b[49m\u001b[38;5;124;43m'\u001b[39;49m\u001b[38;5;124;43mmodel.h5\u001b[39;49m\u001b[38;5;124;43m'\u001b[39;49m\u001b[43m)\u001b[49m\n",
      "File \u001b[1;32m~\\AppData\\Roaming\\Python\\Python311\\site-packages\\keras\\saving\\saving_api.py:212\u001b[0m, in \u001b[0;36mload_model\u001b[1;34m(filepath, custom_objects, compile, safe_mode, **kwargs)\u001b[0m\n\u001b[0;32m    204\u001b[0m     \u001b[38;5;28;01mreturn\u001b[39;00m saving_lib\u001b[38;5;241m.\u001b[39mload_model(\n\u001b[0;32m    205\u001b[0m         filepath,\n\u001b[0;32m    206\u001b[0m         custom_objects\u001b[38;5;241m=\u001b[39mcustom_objects,\n\u001b[0;32m    207\u001b[0m         \u001b[38;5;28mcompile\u001b[39m\u001b[38;5;241m=\u001b[39m\u001b[38;5;28mcompile\u001b[39m,\n\u001b[0;32m    208\u001b[0m         safe_mode\u001b[38;5;241m=\u001b[39msafe_mode,\n\u001b[0;32m    209\u001b[0m     )\n\u001b[0;32m    211\u001b[0m \u001b[38;5;66;03m# Legacy case.\u001b[39;00m\n\u001b[1;32m--> 212\u001b[0m \u001b[38;5;28;01mreturn\u001b[39;00m \u001b[43mlegacy_sm_saving_lib\u001b[49m\u001b[38;5;241;43m.\u001b[39;49m\u001b[43mload_model\u001b[49m\u001b[43m(\u001b[49m\n\u001b[0;32m    213\u001b[0m \u001b[43m    \u001b[49m\u001b[43mfilepath\u001b[49m\u001b[43m,\u001b[49m\u001b[43m \u001b[49m\u001b[43mcustom_objects\u001b[49m\u001b[38;5;241;43m=\u001b[39;49m\u001b[43mcustom_objects\u001b[49m\u001b[43m,\u001b[49m\u001b[43m \u001b[49m\u001b[38;5;28;43mcompile\u001b[39;49m\u001b[38;5;241;43m=\u001b[39;49m\u001b[38;5;28;43mcompile\u001b[39;49m\u001b[43m,\u001b[49m\u001b[43m \u001b[49m\u001b[38;5;241;43m*\u001b[39;49m\u001b[38;5;241;43m*\u001b[39;49m\u001b[43mkwargs\u001b[49m\n\u001b[0;32m    214\u001b[0m \u001b[43m\u001b[49m\u001b[43m)\u001b[49m\n",
      "File \u001b[1;32m~\\AppData\\Roaming\\Python\\Python311\\site-packages\\keras\\utils\\traceback_utils.py:70\u001b[0m, in \u001b[0;36mfilter_traceback.<locals>.error_handler\u001b[1;34m(*args, **kwargs)\u001b[0m\n\u001b[0;32m     67\u001b[0m     filtered_tb \u001b[38;5;241m=\u001b[39m _process_traceback_frames(e\u001b[38;5;241m.\u001b[39m__traceback__)\n\u001b[0;32m     68\u001b[0m     \u001b[38;5;66;03m# To get the full stack trace, call:\u001b[39;00m\n\u001b[0;32m     69\u001b[0m     \u001b[38;5;66;03m# `tf.debugging.disable_traceback_filtering()`\u001b[39;00m\n\u001b[1;32m---> 70\u001b[0m     \u001b[38;5;28;01mraise\u001b[39;00m e\u001b[38;5;241m.\u001b[39mwith_traceback(filtered_tb) \u001b[38;5;28;01mfrom\u001b[39;00m \u001b[38;5;28mNone\u001b[39m\n\u001b[0;32m     71\u001b[0m \u001b[38;5;28;01mfinally\u001b[39;00m:\n\u001b[0;32m     72\u001b[0m     \u001b[38;5;28;01mdel\u001b[39;00m filtered_tb\n",
      "File \u001b[1;32m~\\AppData\\Roaming\\Python\\Python311\\site-packages\\keras\\engine\\base_layer.py:870\u001b[0m, in \u001b[0;36mLayer.from_config\u001b[1;34m(cls, config)\u001b[0m\n\u001b[0;32m    868\u001b[0m     \u001b[38;5;28;01mreturn\u001b[39;00m \u001b[38;5;28mcls\u001b[39m(\u001b[38;5;241m*\u001b[39m\u001b[38;5;241m*\u001b[39mconfig)\n\u001b[0;32m    869\u001b[0m \u001b[38;5;28;01mexcept\u001b[39;00m \u001b[38;5;167;01mException\u001b[39;00m \u001b[38;5;28;01mas\u001b[39;00m e:\n\u001b[1;32m--> 870\u001b[0m     \u001b[38;5;28;01mraise\u001b[39;00m \u001b[38;5;167;01mTypeError\u001b[39;00m(\n\u001b[0;32m    871\u001b[0m         \u001b[38;5;124mf\u001b[39m\u001b[38;5;124m\"\u001b[39m\u001b[38;5;124mError when deserializing class \u001b[39m\u001b[38;5;124m'\u001b[39m\u001b[38;5;132;01m{\u001b[39;00m\u001b[38;5;28mcls\u001b[39m\u001b[38;5;241m.\u001b[39m\u001b[38;5;18m__name__\u001b[39m\u001b[38;5;132;01m}\u001b[39;00m\u001b[38;5;124m'\u001b[39m\u001b[38;5;124m using \u001b[39m\u001b[38;5;124m\"\u001b[39m\n\u001b[0;32m    872\u001b[0m         \u001b[38;5;124mf\u001b[39m\u001b[38;5;124m\"\u001b[39m\u001b[38;5;124mconfig=\u001b[39m\u001b[38;5;132;01m{\u001b[39;00mconfig\u001b[38;5;132;01m}\u001b[39;00m\u001b[38;5;124m.\u001b[39m\u001b[38;5;130;01m\\n\u001b[39;00m\u001b[38;5;130;01m\\n\u001b[39;00m\u001b[38;5;124mException encountered: \u001b[39m\u001b[38;5;132;01m{\u001b[39;00me\u001b[38;5;132;01m}\u001b[39;00m\u001b[38;5;124m\"\u001b[39m\n\u001b[0;32m    873\u001b[0m     )\n",
      "\u001b[1;31mTypeError\u001b[0m: Error when deserializing class 'InputLayer' using config={'batch_shape': [None, 28, 28, 1], 'dtype': 'float32', 'sparse': False, 'name': 'input_layer'}.\n\nException encountered: Unrecognized keyword arguments: ['batch_shape']"
     ]
    }
   ],
   "source": [
    "# load the model tensorflow\\\n",
    "from tensorflow.keras.models import load_model\n",
    "model=load_model('model.h5')  "
   ]
  },
  {
   "cell_type": "code",
   "execution_count": null,
   "metadata": {},
   "outputs": [
    {
     "data": {
      "text/html": [
       "<pre style=\"white-space:pre;overflow-x:auto;line-height:normal;font-family:Menlo,'DejaVu Sans Mono',consolas,'Courier New',monospace\"><span style=\"font-weight: bold\">Model: \"sequential\"</span>\n",
       "</pre>\n"
      ],
      "text/plain": [
       "\u001b[1mModel: \"sequential\"\u001b[0m\n"
      ]
     },
     "metadata": {},
     "output_type": "display_data"
    },
    {
     "data": {
      "text/html": [
       "<pre style=\"white-space:pre;overflow-x:auto;line-height:normal;font-family:Menlo,'DejaVu Sans Mono',consolas,'Courier New',monospace\">┏━━━━━━━━━━━━━━━━━━━━━━━━━━━━━━━━━┳━━━━━━━━━━━━━━━━━━━━━━━━┳━━━━━━━━━━━━━━━┓\n",
       "┃<span style=\"font-weight: bold\"> Layer (type)                    </span>┃<span style=\"font-weight: bold\"> Output Shape           </span>┃<span style=\"font-weight: bold\">       Param # </span>┃\n",
       "┡━━━━━━━━━━━━━━━━━━━━━━━━━━━━━━━━━╇━━━━━━━━━━━━━━━━━━━━━━━━╇━━━━━━━━━━━━━━━┩\n",
       "│ conv2d (<span style=\"color: #0087ff; text-decoration-color: #0087ff\">Conv2D</span>)                 │ (<span style=\"color: #00d7ff; text-decoration-color: #00d7ff\">None</span>, <span style=\"color: #00af00; text-decoration-color: #00af00\">26</span>, <span style=\"color: #00af00; text-decoration-color: #00af00\">26</span>, <span style=\"color: #00af00; text-decoration-color: #00af00\">16</span>)     │           <span style=\"color: #00af00; text-decoration-color: #00af00\">160</span> │\n",
       "├─────────────────────────────────┼────────────────────────┼───────────────┤\n",
       "│ max_pooling2d (<span style=\"color: #0087ff; text-decoration-color: #0087ff\">MaxPooling2D</span>)    │ (<span style=\"color: #00d7ff; text-decoration-color: #00d7ff\">None</span>, <span style=\"color: #00af00; text-decoration-color: #00af00\">26</span>, <span style=\"color: #00af00; text-decoration-color: #00af00\">26</span>, <span style=\"color: #00af00; text-decoration-color: #00af00\">16</span>)     │             <span style=\"color: #00af00; text-decoration-color: #00af00\">0</span> │\n",
       "├─────────────────────────────────┼────────────────────────┼───────────────┤\n",
       "│ flatten (<span style=\"color: #0087ff; text-decoration-color: #0087ff\">Flatten</span>)               │ (<span style=\"color: #00d7ff; text-decoration-color: #00d7ff\">None</span>, <span style=\"color: #00af00; text-decoration-color: #00af00\">10816</span>)          │             <span style=\"color: #00af00; text-decoration-color: #00af00\">0</span> │\n",
       "├─────────────────────────────────┼────────────────────────┼───────────────┤\n",
       "│ dense (<span style=\"color: #0087ff; text-decoration-color: #0087ff\">Dense</span>)                   │ (<span style=\"color: #00d7ff; text-decoration-color: #00d7ff\">None</span>, <span style=\"color: #00af00; text-decoration-color: #00af00\">128</span>)            │     <span style=\"color: #00af00; text-decoration-color: #00af00\">1,384,576</span> │\n",
       "├─────────────────────────────────┼────────────────────────┼───────────────┤\n",
       "│ dropout (<span style=\"color: #0087ff; text-decoration-color: #0087ff\">Dropout</span>)               │ (<span style=\"color: #00d7ff; text-decoration-color: #00d7ff\">None</span>, <span style=\"color: #00af00; text-decoration-color: #00af00\">128</span>)            │             <span style=\"color: #00af00; text-decoration-color: #00af00\">0</span> │\n",
       "├─────────────────────────────────┼────────────────────────┼───────────────┤\n",
       "│ dense_1 (<span style=\"color: #0087ff; text-decoration-color: #0087ff\">Dense</span>)                 │ (<span style=\"color: #00d7ff; text-decoration-color: #00d7ff\">None</span>, <span style=\"color: #00af00; text-decoration-color: #00af00\">10</span>)             │         <span style=\"color: #00af00; text-decoration-color: #00af00\">1,290</span> │\n",
       "└─────────────────────────────────┴────────────────────────┴───────────────┘\n",
       "</pre>\n"
      ],
      "text/plain": [
       "┏━━━━━━━━━━━━━━━━━━━━━━━━━━━━━━━━━┳━━━━━━━━━━━━━━━━━━━━━━━━┳━━━━━━━━━━━━━━━┓\n",
       "┃\u001b[1m \u001b[0m\u001b[1mLayer (type)                   \u001b[0m\u001b[1m \u001b[0m┃\u001b[1m \u001b[0m\u001b[1mOutput Shape          \u001b[0m\u001b[1m \u001b[0m┃\u001b[1m \u001b[0m\u001b[1m      Param #\u001b[0m\u001b[1m \u001b[0m┃\n",
       "┡━━━━━━━━━━━━━━━━━━━━━━━━━━━━━━━━━╇━━━━━━━━━━━━━━━━━━━━━━━━╇━━━━━━━━━━━━━━━┩\n",
       "│ conv2d (\u001b[38;5;33mConv2D\u001b[0m)                 │ (\u001b[38;5;45mNone\u001b[0m, \u001b[38;5;34m26\u001b[0m, \u001b[38;5;34m26\u001b[0m, \u001b[38;5;34m16\u001b[0m)     │           \u001b[38;5;34m160\u001b[0m │\n",
       "├─────────────────────────────────┼────────────────────────┼───────────────┤\n",
       "│ max_pooling2d (\u001b[38;5;33mMaxPooling2D\u001b[0m)    │ (\u001b[38;5;45mNone\u001b[0m, \u001b[38;5;34m26\u001b[0m, \u001b[38;5;34m26\u001b[0m, \u001b[38;5;34m16\u001b[0m)     │             \u001b[38;5;34m0\u001b[0m │\n",
       "├─────────────────────────────────┼────────────────────────┼───────────────┤\n",
       "│ flatten (\u001b[38;5;33mFlatten\u001b[0m)               │ (\u001b[38;5;45mNone\u001b[0m, \u001b[38;5;34m10816\u001b[0m)          │             \u001b[38;5;34m0\u001b[0m │\n",
       "├─────────────────────────────────┼────────────────────────┼───────────────┤\n",
       "│ dense (\u001b[38;5;33mDense\u001b[0m)                   │ (\u001b[38;5;45mNone\u001b[0m, \u001b[38;5;34m128\u001b[0m)            │     \u001b[38;5;34m1,384,576\u001b[0m │\n",
       "├─────────────────────────────────┼────────────────────────┼───────────────┤\n",
       "│ dropout (\u001b[38;5;33mDropout\u001b[0m)               │ (\u001b[38;5;45mNone\u001b[0m, \u001b[38;5;34m128\u001b[0m)            │             \u001b[38;5;34m0\u001b[0m │\n",
       "├─────────────────────────────────┼────────────────────────┼───────────────┤\n",
       "│ dense_1 (\u001b[38;5;33mDense\u001b[0m)                 │ (\u001b[38;5;45mNone\u001b[0m, \u001b[38;5;34m10\u001b[0m)             │         \u001b[38;5;34m1,290\u001b[0m │\n",
       "└─────────────────────────────────┴────────────────────────┴───────────────┘\n"
      ]
     },
     "metadata": {},
     "output_type": "display_data"
    },
    {
     "data": {
      "text/html": [
       "<pre style=\"white-space:pre;overflow-x:auto;line-height:normal;font-family:Menlo,'DejaVu Sans Mono',consolas,'Courier New',monospace\"><span style=\"font-weight: bold\"> Total params: </span><span style=\"color: #00af00; text-decoration-color: #00af00\">1,386,028</span> (5.29 MB)\n",
       "</pre>\n"
      ],
      "text/plain": [
       "\u001b[1m Total params: \u001b[0m\u001b[38;5;34m1,386,028\u001b[0m (5.29 MB)\n"
      ]
     },
     "metadata": {},
     "output_type": "display_data"
    },
    {
     "data": {
      "text/html": [
       "<pre style=\"white-space:pre;overflow-x:auto;line-height:normal;font-family:Menlo,'DejaVu Sans Mono',consolas,'Courier New',monospace\"><span style=\"font-weight: bold\"> Trainable params: </span><span style=\"color: #00af00; text-decoration-color: #00af00\">1,386,026</span> (5.29 MB)\n",
       "</pre>\n"
      ],
      "text/plain": [
       "\u001b[1m Trainable params: \u001b[0m\u001b[38;5;34m1,386,026\u001b[0m (5.29 MB)\n"
      ]
     },
     "metadata": {},
     "output_type": "display_data"
    },
    {
     "data": {
      "text/html": [
       "<pre style=\"white-space:pre;overflow-x:auto;line-height:normal;font-family:Menlo,'DejaVu Sans Mono',consolas,'Courier New',monospace\"><span style=\"font-weight: bold\"> Non-trainable params: </span><span style=\"color: #00af00; text-decoration-color: #00af00\">0</span> (0.00 B)\n",
       "</pre>\n"
      ],
      "text/plain": [
       "\u001b[1m Non-trainable params: \u001b[0m\u001b[38;5;34m0\u001b[0m (0.00 B)\n"
      ]
     },
     "metadata": {},
     "output_type": "display_data"
    },
    {
     "data": {
      "text/html": [
       "<pre style=\"white-space:pre;overflow-x:auto;line-height:normal;font-family:Menlo,'DejaVu Sans Mono',consolas,'Courier New',monospace\"><span style=\"font-weight: bold\"> Optimizer params: </span><span style=\"color: #00af00; text-decoration-color: #00af00\">2</span> (12.00 B)\n",
       "</pre>\n"
      ],
      "text/plain": [
       "\u001b[1m Optimizer params: \u001b[0m\u001b[38;5;34m2\u001b[0m (12.00 B)\n"
      ]
     },
     "metadata": {},
     "output_type": "display_data"
    }
   ],
   "source": [
    "model.summary()"
   ]
  },
  {
   "cell_type": "code",
   "execution_count": null,
   "metadata": {},
   "outputs": [],
   "source": [
    "def preprocess_image(img):\n",
    "    img = cv2.resize(img, (28, 28))\n",
    "    img = cv2.cvtColor(img, cv2.COLOR_BGR2GRAY)\n",
    "    img = img.reshape(1, 28, 28, 1)\n",
    "\n",
    "    return img"
   ]
  },
  {
   "cell_type": "code",
   "execution_count": null,
   "metadata": {},
   "outputs": [
    {
     "name": "stdout",
     "output_type": "stream",
     "text": [
      "[ True False False False False]\n"
     ]
    }
   ],
   "source": [
    "import threading\n",
    "import time\n",
    "cap = cv2.VideoCapture(0)\n",
    "# cap = VideoCaptureThreading(0)\n",
    "# cap.start()\n",
    "\n",
    "CALIZ=-0.0\n",
    "THRES=0.03\n",
    "DIR='uni1'\n",
    "WRITETHRES=1000000\n",
    "NUM_TRACK_FRAMES=5\n",
    "\n",
    "mpHands = mp.solutions.hands\n",
    "hands = mpHands.Hands(static_image_mode=False,\n",
    "                      max_num_hands=1,\n",
    "                      min_detection_confidence=0.5,\n",
    "                      min_tracking_confidence=0.7)\n",
    "mpDraw = mp.solutions.drawing_utils\n",
    "\n",
    "pTime = 0\n",
    "cTime = 0\n",
    "wr = writer()\n",
    "wr.calibrate(currentZ=CALIZ,thres=THRES,dir=DIR,writethres=WRITETHRES)\n",
    "Writers=[]\n",
    "Writers.append(wr)\n",
    "## POINTER TRACK TABLE\n",
    "#a 10 length numpy array to track last num_track_frames frames pointing status\n",
    "num_track_frames=NUM_TRACK_FRAMES\n",
    "pointer_table=np.zeros(num_track_frames,dtype=bool)\n",
    "pointer_table[0]=True\n",
    "print(pointer_table)\n",
    "\n",
    "last_time_pointer=False\n",
    "this_time_pointer=True\n",
    "\n",
    "Time_Instant=time.time()\n",
    "\n",
    "while True:\n",
    " \n",
    "\n",
    "    try:\n",
    "        success, img = cap.read()\n",
    "        img=cv2.flip(img,1)\n",
    "  \n",
    "        imgRGB = cv2.cvtColor(img, cv2.COLOR_BGR2RGB)\n",
    "       \n",
    "  \n",
    "        results = hands.process(imgRGB)\n",
    "        #print(results.multi_hand_landmarks)\n",
    "        lmlist = []\n",
    "       \n",
    "        if results.multi_hand_landmarks:\n",
    "            for handLms in results.multi_hand_landmarks:\n",
    "                # mpDraw.draw_landmarks(img, handLms, mpHands.HAND_CONNECTIONS,\n",
    "                # # mpDraw.DrawingSpec(color=(0, 255, 0), thickness=2, circle_radius=4),\n",
    "                # mpDraw.DrawingSpec(color=(0, 0, 255), thickness=, circle_radius=2))  # Increased thickness\n",
    "\n",
    "                for id, lm in enumerate(handLms.landmark):\n",
    "                    #print(id,lm)\n",
    "                    h, w, c = img.shape\n",
    "                    cx, cy = int(lm.x *w), int(lm.y*h)\n",
    "                    cz= lm.z\n",
    "                    #if id ==0:\n",
    "                    # cv2.circle(img, (cx,cy), 3, (255,0,255), cv2.FILLED)\n",
    "                    # circle with numbers\n",
    "\n",
    "                    \n",
    "                    cv2.putText(img, str(id), (cx,cy), cv2.FONT_HERSHEY_PLAIN, 1, (0,255,0), 1)\n",
    "                    lmlist.append([id, cx, cy, cz])\n",
    "\n",
    "                mpDraw.draw_landmarks(img, handLms, mpHands.HAND_CONNECTIONS)\n",
    "\n",
    "            \n",
    "                \n",
    "\n",
    "        def closed_fingers(lmlist):\n",
    "            fingers = []\n",
    "            if len(lmlist) > 20:  # Ensure all landmarks are present\n",
    "                cv2.putText(img, \"Hand Detected\", (10,50), cv2.FONT_HERSHEY_PLAIN, 3, (255,0,255), 3)\n",
    "                # Thumb\n",
    "                if lmlist[4][2] > lmlist[3][2]:\n",
    "                    fingers.append(\"Thumb\")\n",
    "                # Index finger\n",
    "                if lmlist[8][2] > lmlist[6][2]:\n",
    "                    fingers.append(\"Index\")\n",
    "                # Middle finger\n",
    "                if lmlist[12][2] > lmlist[10][2]:\n",
    "                    fingers.append(\"Middle\")\n",
    "                # Ring finger\n",
    "                if lmlist[16][2] > lmlist[14][2]:\n",
    "                    fingers.append(\"Ring\")\n",
    "                # Pinky\n",
    "                if lmlist[20][2] > lmlist[18][2]:\n",
    "                    fingers.append(\"Pinky\")\n",
    "\n",
    "            return fingers\n",
    "         \n",
    "\n",
    "        c_fingers= closed_fingers_v2(lmlist,img)\n",
    "\n",
    "        Pencil=True\n",
    "\n",
    "\n",
    "\n",
    "        if(len(c_fingers)>0):\n",
    "            cv2.putText(img, str(up_fingers(c_fingers)), (10,100), cv2.FONT_HERSHEY_PLAIN, 1, (0,0,200), 1)\n",
    "\n",
    "            new_point=Mypoint(lmlist[8][1],lmlist[8][2],lmlist[8][3])\n",
    "            if(Writers[-1].on_canvas(new_point)):\n",
    "                # glow the point\n",
    "                cv2.circle(img, (int(new_point.x),int(new_point.y)), 15, (255,150,200), cv2.FILLED)\n",
    "            # print(\"pointer \",last_time_pointer,\" \",this_time_pointer)\n",
    "            if ispointing(c_fingers,img):\n",
    "                this_time_pointer=True\n",
    "\n",
    "                # make new writer when last num_track_frames frames were not pointing and this frame is pointing\n",
    "                timegap=time.time()-Time_Instant\n",
    "                if np.all(pointer_table==False) and this_time_pointer and timegap>0.1:\n",
    "                    new_writer=writer()\n",
    "                    new_writer.calibrate(currentZ=CALIZ,thres=THRES,dir=DIR,writethres=WRITETHRES)\n",
    "                    \n",
    "                    Writers.append(new_writer)\n",
    "                    # fig, axs = plt.subplots(1,len(Writers),figsize=(10,10))\n",
    "                    # new_img=np.zeros((480,640,3),dtype=np.uint8)\n",
    "                    # new_img = np.zeros((480, 640, 3), dtype=np.uint8)\n",
    "                    # new_img = Writer.draw(new_img)\n",
    "                    # processed_img = preprocess_image(new_img)\n",
    "                    # if np.max(processed_img) == 0:  # Check if the image is totally black\n",
    "                    #     axs[i].imshow(cv2.cvtColor(new_img, cv2.COLOR_BGR2RGB))\n",
    "                    #     axs[i].set_title(f'Writer {i}')\n",
    "                    #     axs[i].axis('off')\n",
    "                    #     prediction = \"No detection\"\n",
    "                    # else:\n",
    "                    #     # processed_images.append(processed_img.squeeze(0))  # Remove batch dimension for stacking\n",
    "                    #     axs[i].imshow(cv2.cvtColor(new_img, cv2.COLOR_BGR2RGB))\n",
    "                    #     axs[i].set_title(f'Writer {i}')\n",
    "                    #     axs[i].axis('off')\n",
    "\n",
    "                    \n",
    "                    \n",
    "             \n",
    "\n",
    "                \n",
    "                cv2.putText(img, \"Pointing\", (10,100), cv2.FONT_HERSHEY_PLAIN, 3, (255,255,255), 3)\n",
    "                \n",
    "                if(Pencil ):\n",
    "                    # Writers[-1].write(new_point)\n",
    "                    Writers[-1].writeV2(new_point)\n",
    "                    Time_Instant=time.time()\n",
    "\n",
    "                    # print(new_point.z)\n",
    "                    # wr.write(new_point)\n",
    "                    # Writers[-1].write(new_point)\n",
    "                last_time_pointer=True\n",
    "            else:\n",
    "                last_time_pointer=False\n",
    "        # update last value of pointer table with last_time_pointer\n",
    "        pointer_table=np.roll(pointer_table,1)\n",
    "        pointer_table[0]=last_time_pointer\n",
    "\n",
    " \n",
    "        # wr.draw(img)\n",
    "       \n",
    "        for Writer in Writers:\n",
    "            img=Writer.draw(img)         \n",
    "                    \n",
    "        \n",
    "\n",
    "        cTime = time.time()\n",
    "        fps = 1/(cTime-pTime)\n",
    "        pTime = cTime\n",
    "\n",
    "\n",
    "        \n",
    "\n",
    "        cv2.putText(img,str(int(fps)), (10,70), cv2.FONT_HERSHEY_PLAIN, 3, (255,0,255), 3)\n",
    "   \n",
    "       \n",
    "        cv2.imshow(\"Image\", img)\n",
    "        cv2.waitKey(1)\n",
    "\n",
    "      \n",
    "\n",
    "        if not (cv2.getWindowProperty(\"Image\",cv2.WND_PROP_VISIBLE)):\n",
    "            break\n",
    "    \n",
    "        if cv2.waitKey(1) == 27: \n",
    "            break  # esc to quit\n",
    "\n",
    "    except Exception as e:\n",
    "        print(e)\n",
    "        break\n",
    "cap.release()\n",
    "cv2.destroyAllWindows()\n",
    "    "
   ]
  },
  {
   "cell_type": "code",
   "execution_count": null,
   "metadata": {},
   "outputs": [
    {
     "data": {
      "image/png": "[encoded data removed]",
      "text/plain": [
       "<Figure size 640x480 with 1 Axes>"
      ]
     },
     "metadata": {},
     "output_type": "display_data"
    }
   ],
   "source": [
    "for i in Writers:\n",
    "    new_img=np.zeros((480,640,3),dtype=np.uint8)\n",
    "    new_img = i.draw(new_img)\n",
    "\n",
    "    cv2.imshow(\"Image\", new_img)\n",
    "    plt.imshow(new_img)"
   ]
  },
  {
   "cell_type": "code",
   "execution_count": null,
   "metadata": {},
   "outputs": [],
   "source": [
    "def preprocess_image(img):\n",
    "    \n",
    "    #display the image\n",
    "    plt.imshow(img.squeeze(), cmap='gray')\n",
    "    plt.show()\n",
    "    img = cv2.resize(img, (28, 28))\n",
    "    img = cv2.cvtColor(img, cv2.COLOR_BGR2GRAY)\n",
    "  \n",
    "    img = cv2.GaussianBlur(img, (5,5), 0)\n",
    "    # img = cv2.GaussianBlur(img, (3,3), 0)\n",
    "   \n",
    "    img = img.reshape(1, 28, 28, 1)  \n",
    "    plt.imshow(img.squeeze(), cmap='gray')\n",
    "    plt.show()\n",
    "    return img"
   ]
  },
  {
   "cell_type": "code",
   "execution_count": null,
   "metadata": {},
   "outputs": [
    {
     "name": "stdout",
     "output_type": "stream",
     "text": [
      "108 221 116 355\n"
     ]
    },
    {
     "data": {
      "image/png": "[encoded data removed]",
      "text/plain": [
       "<Figure size 640x480 with 1 Axes>"
      ]
     },
     "metadata": {},
     "output_type": "display_data"
    },
    {
     "data": {
      "image/png": "[encoded data removed]",
      "text/plain": [
       "<Figure size 640x480 with 1 Axes>"
      ]
     },
     "metadata": {},
     "output_type": "display_data"
    },
    {
     "data": {
      "image/png": "[encoded data removed]",
      "text/plain": [
       "<Figure size 640x480 with 1 Axes>"
      ]
     },
     "metadata": {},
     "output_type": "display_data"
    },
    {
     "name": "stdout",
     "output_type": "stream",
     "text": [
      "\u001b[1m1/1\u001b[0m \u001b[32m━━━━━━━━━━━━━━━━━━━━\u001b[0m\u001b[37m\u001b[0m \u001b[1m0s\u001b[0m 14ms/step\n",
      "Predictions for Writer <__main__.Mypoint object at 0x0000027A13610C10>: [[0. 0. 0. 0. 0. 0. 0. 0. 1. 0.]]\n",
      "Predicted class for Writer <__main__.Mypoint object at 0x0000027A13610C10>: [8]\n"
     ]
    },
    {
     "data": {
      "image/png": "[encoded data removed]",
      "text/plain": [
       "<Figure size 1000x1000 with 4 Axes>"
      ]
     },
     "metadata": {},
     "output_type": "display_data"
    },
    {
     "data": {
      "image/png": "[encoded data removed]",
      "text/plain": [
       "<Figure size 640x480 with 1 Axes>"
      ]
     },
     "metadata": {},
     "output_type": "display_data"
    },
    {
     "name": "stdout",
     "output_type": "stream",
     "text": [
      "Predictions for Writer 0: No detection\n"
     ]
    },
    {
     "ename": "AxisError",
     "evalue": "axis 1 is out of bounds for array of dimension 1",
     "output_type": "error",
     "traceback": [
      "\u001b[1;31m---------------------------------------------------------------------------\u001b[0m",
      "\u001b[1;31mAxisError\u001b[0m                                 Traceback (most recent call last)",
      "Cell \u001b[1;32mIn[53], line 49\u001b[0m\n\u001b[0;32m     47\u001b[0m         prediction \u001b[38;5;241m=\u001b[39m model\u001b[38;5;241m.\u001b[39mpredict(processed_img)\n\u001b[0;32m     48\u001b[0m     \u001b[38;5;28mprint\u001b[39m(\u001b[38;5;124mf\u001b[39m\u001b[38;5;124m\"\u001b[39m\u001b[38;5;124mPredictions for Writer \u001b[39m\u001b[38;5;132;01m{\u001b[39;00mi\u001b[38;5;132;01m}\u001b[39;00m\u001b[38;5;124m: \u001b[39m\u001b[38;5;132;01m{\u001b[39;00mprediction\u001b[38;5;132;01m}\u001b[39;00m\u001b[38;5;124m\"\u001b[39m) \n\u001b[1;32m---> 49\u001b[0m     predicted_classes \u001b[38;5;241m=\u001b[39m np\u001b[38;5;241m.\u001b[39margmax(prediction, axis\u001b[38;5;241m=\u001b[39m\u001b[38;5;241m1\u001b[39m)\n\u001b[0;32m     50\u001b[0m     \u001b[38;5;28mprint\u001b[39m(\u001b[38;5;124mf\u001b[39m\u001b[38;5;124m\"\u001b[39m\u001b[38;5;124mPredicted class for Writer \u001b[39m\u001b[38;5;132;01m{\u001b[39;00mi\u001b[38;5;132;01m}\u001b[39;00m\u001b[38;5;124m: \u001b[39m\u001b[38;5;132;01m{\u001b[39;00mpredicted_classes\u001b[38;5;132;01m}\u001b[39;00m\u001b[38;5;124m\"\u001b[39m)\n\u001b[0;32m     51\u001b[0m plt\u001b[38;5;241m.\u001b[39mshow()\n",
      "File \u001b[1;32m<__array_function__ internals>:200\u001b[0m, in \u001b[0;36margmax\u001b[1;34m(*args, **kwargs)\u001b[0m\n",
      "File \u001b[1;32mc:\\Users\\acer\\anaconda3\\Lib\\site-packages\\numpy\\core\\fromnumeric.py:1242\u001b[0m, in \u001b[0;36margmax\u001b[1;34m(a, axis, out, keepdims)\u001b[0m\n\u001b[0;32m   1155\u001b[0m \u001b[38;5;250m\u001b[39m\u001b[38;5;124;03m\"\"\"\u001b[39;00m\n\u001b[0;32m   1156\u001b[0m \u001b[38;5;124;03mReturns the indices of the maximum values along an axis.\u001b[39;00m\n\u001b[0;32m   1157\u001b[0m \n\u001b[1;32m   (...)\u001b[0m\n\u001b[0;32m   1239\u001b[0m \u001b[38;5;124;03m(2, 1, 4)\u001b[39;00m\n\u001b[0;32m   1240\u001b[0m \u001b[38;5;124;03m\"\"\"\u001b[39;00m\n\u001b[0;32m   1241\u001b[0m kwds \u001b[38;5;241m=\u001b[39m {\u001b[38;5;124m'\u001b[39m\u001b[38;5;124mkeepdims\u001b[39m\u001b[38;5;124m'\u001b[39m: keepdims} \u001b[38;5;28;01mif\u001b[39;00m keepdims \u001b[38;5;129;01mis\u001b[39;00m \u001b[38;5;129;01mnot\u001b[39;00m np\u001b[38;5;241m.\u001b[39m_NoValue \u001b[38;5;28;01melse\u001b[39;00m {}\n\u001b[1;32m-> 1242\u001b[0m \u001b[38;5;28;01mreturn\u001b[39;00m _wrapfunc(a, \u001b[38;5;124m'\u001b[39m\u001b[38;5;124margmax\u001b[39m\u001b[38;5;124m'\u001b[39m, axis\u001b[38;5;241m=\u001b[39maxis, out\u001b[38;5;241m=\u001b[39mout, \u001b[38;5;241m*\u001b[39m\u001b[38;5;241m*\u001b[39mkwds)\n",
      "File \u001b[1;32mc:\\Users\\acer\\anaconda3\\Lib\\site-packages\\numpy\\core\\fromnumeric.py:54\u001b[0m, in \u001b[0;36m_wrapfunc\u001b[1;34m(obj, method, *args, **kwds)\u001b[0m\n\u001b[0;32m     52\u001b[0m bound \u001b[38;5;241m=\u001b[39m \u001b[38;5;28mgetattr\u001b[39m(obj, method, \u001b[38;5;28;01mNone\u001b[39;00m)\n\u001b[0;32m     53\u001b[0m \u001b[38;5;28;01mif\u001b[39;00m bound \u001b[38;5;129;01mis\u001b[39;00m \u001b[38;5;28;01mNone\u001b[39;00m:\n\u001b[1;32m---> 54\u001b[0m     \u001b[38;5;28;01mreturn\u001b[39;00m _wrapit(obj, method, \u001b[38;5;241m*\u001b[39margs, \u001b[38;5;241m*\u001b[39m\u001b[38;5;241m*\u001b[39mkwds)\n\u001b[0;32m     56\u001b[0m \u001b[38;5;28;01mtry\u001b[39;00m:\n\u001b[0;32m     57\u001b[0m     \u001b[38;5;28;01mreturn\u001b[39;00m bound(\u001b[38;5;241m*\u001b[39margs, \u001b[38;5;241m*\u001b[39m\u001b[38;5;241m*\u001b[39mkwds)\n",
      "File \u001b[1;32mc:\\Users\\acer\\anaconda3\\Lib\\site-packages\\numpy\\core\\fromnumeric.py:43\u001b[0m, in \u001b[0;36m_wrapit\u001b[1;34m(obj, method, *args, **kwds)\u001b[0m\n\u001b[0;32m     41\u001b[0m \u001b[38;5;28;01mexcept\u001b[39;00m \u001b[38;5;167;01mAttributeError\u001b[39;00m:\n\u001b[0;32m     42\u001b[0m     wrap \u001b[38;5;241m=\u001b[39m \u001b[38;5;28;01mNone\u001b[39;00m\n\u001b[1;32m---> 43\u001b[0m result \u001b[38;5;241m=\u001b[39m \u001b[38;5;28mgetattr\u001b[39m(asarray(obj), method)(\u001b[38;5;241m*\u001b[39margs, \u001b[38;5;241m*\u001b[39m\u001b[38;5;241m*\u001b[39mkwds)\n\u001b[0;32m     44\u001b[0m \u001b[38;5;28;01mif\u001b[39;00m wrap:\n\u001b[0;32m     45\u001b[0m     \u001b[38;5;28;01mif\u001b[39;00m \u001b[38;5;129;01mnot\u001b[39;00m \u001b[38;5;28misinstance\u001b[39m(result, mu\u001b[38;5;241m.\u001b[39mndarray):\n",
      "\u001b[1;31mAxisError\u001b[0m: axis 1 is out of bounds for array of dimension 1"
     ]
    }
   ],
   "source": [
    "\n",
    "writeone= Writers[1]\n",
    "limitx1,limitx2,limity1,limity2=writeone.range_points()\n",
    "print(limitx1,limitx2,limity1,limity2)\n",
    "\n",
    "# cut image around the written area with some padding\n",
    "new_image_a=np.zeros((limity2-limity1+100,limitx2-limitx1+100,3),dtype=np.uint8)\n",
    "new_image_b=np.zeros((640,480,3),dtype=np.uint8)\n",
    "writeone.draw(new_image_b)\n",
    "plt.imshow(new_image_b)\n",
    "plt.show()\n",
    "# plt.show()\n",
    "for i in writeone.points:\n",
    "    cv2.line(new_image_a,(int(i.x)-limitx1+50,int(i.y)-limity1+50),(int(i.x)-limitx1+50,int(i.y)-limity1+50),(255,0,0),20)\n",
    "\n",
    "plt.imshow(new_image_a)\n",
    "\n",
    "# resize the image to 28x28\n",
    "new_image_a=cv2.resize(new_image_a,(28,28))\n",
    "plt.imshow(new_image_a)\n",
    "processed_img = preprocess_image(new_image_a)\n",
    "predictions = model.predict(processed_img)\n",
    "print(f\"Predictions for Writer {i}: {predictions}\") \n",
    "predicted_classes = np.argmax(predictions, axis=1)\n",
    "print(f\"Predicted class for Writer {i}: {predicted_classes}\")\n",
    "plt.show()\n",
    "# a little bit of padding\n",
    "\n",
    "\n",
    "\n",
    "# for loop and pritnt all in subplots\n",
    "fig, axs = plt.subplots(1,len(Writers),figsize=(10,10))\n",
    "\n",
    "\n",
    "\n",
    "\n"
   ]
  },
  {
   "cell_type": "code",
   "execution_count": null,
   "metadata": {},
   "outputs": [
    {
     "data": {
      "image/png": "[encoded data removed]",
      "text/plain": [
       "<Figure size 1000x1000 with 4 Axes>"
      ]
     },
     "metadata": {},
     "output_type": "display_data"
    }
   ],
   "source": [
    "import matplotlib.pyplot as plt\n",
    "# make images for points in each writer as separate images in subplots\n",
    "# fig size 10,10\n",
    "fig, axs = plt.subplots(1,len(Writers),figsize=(10,10))\n",
    "# new_img=np.zeros((480,640,3),dtype=np.uint8)\n",
    "# plt.imshow(new_img.squeeze(), cmap='gray')\n",
    "# plt.show()\n",
    "for i,Writer in enumerate(Writers):\n",
    "    new_img=np.zeros((480,640,3),dtype=np.uint8)\n",
    "    new_img.fill(0)\n",
    "    new_img=Writer.draw(new_img)\n",
    "    \n",
    "    axs[i].imshow(new_img)\n",
    "    axs[i].set_title('Writer '+str(i))\n",
    "    axs[i].axis('off')\n",
    "plt.show()\n"
   ]
  },
  {
   "cell_type": "code",
   "execution_count": null,
   "metadata": {},
   "outputs": [],
   "source": []
  },
  {
   "cell_type": "code",
   "execution_count": null,
   "metadata": {},
   "outputs": [
    {
     "name": "stdout",
     "output_type": "stream",
     "text": [
      "<class 'numpy.ndarray'>\n"
     ]
    },
    {
     "data": {
      "image/png": "[encoded data removed]",
      "text/plain": [
       "<Figure size 640x480 with 1 Axes>"
      ]
     },
     "metadata": {},
     "output_type": "display_data"
    },
    {
     "data": {
      "image/png": "[encoded data removed]",
      "text/plain": [
       "<Figure size 640x480 with 1 Axes>"
      ]
     },
     "metadata": {},
     "output_type": "display_data"
    },
    {
     "name": "stdout",
     "output_type": "stream",
     "text": [
      "<class 'numpy.ndarray'>\n"
     ]
    },
    {
     "data": {
      "image/png": "[encoded data removed]",
      "text/plain": [
       "<Figure size 640x480 with 1 Axes>"
      ]
     },
     "metadata": {},
     "output_type": "display_data"
    },
    {
     "data": {
      "image/png": "[encoded data removed]",
      "text/plain": [
       "<Figure size 640x480 with 1 Axes>"
      ]
     },
     "metadata": {},
     "output_type": "display_data"
    },
    {
     "name": "stdout",
     "output_type": "stream",
     "text": [
      "(480, 640, 3)\n",
      "\u001b[1m1/1\u001b[0m \u001b[32m━━━━━━━━━━━━━━━━━━━━\u001b[0m\u001b[37m\u001b[0m \u001b[1m0s\u001b[0m 17ms/step\n",
      "Predictions for Writer 1: [[9.9656278e-01 2.9360537e-22 1.1663197e-28 3.0918010e-33 1.0381845e-07\n",
      "  2.7848378e-13 8.3547239e-15 3.4371675e-03 1.6416173e-18 3.9518102e-15]]\n",
      "Predicted class for Writer 1: [0]\n",
      "<class 'numpy.ndarray'>\n"
     ]
    },
    {
     "data": {
      "image/png": "[encoded data removed]",
      "text/plain": [
       "<Figure size 640x480 with 1 Axes>"
      ]
     },
     "metadata": {},
     "output_type": "display_data"
    },
    {
     "data": {
      "image/png": "[encoded data removed]",
      "text/plain": [
       "<Figure size 640x480 with 1 Axes>"
      ]
     },
     "metadata": {},
     "output_type": "display_data"
    },
    {
     "name": "stdout",
     "output_type": "stream",
     "text": [
      "(480, 640, 3)\n",
      "\u001b[1m1/1\u001b[0m \u001b[32m━━━━━━━━━━━━━━━━━━━━\u001b[0m\u001b[37m\u001b[0m \u001b[1m0s\u001b[0m 11ms/step\n",
      "Predictions for Writer 2: [[4.5883817e-09 1.1422015e-21 9.9982363e-01 1.4271665e-19 5.8344381e-07\n",
      "  1.7469908e-15 7.0139307e-22 1.2454847e-09 7.1070723e-09 1.7583283e-04]]\n",
      "Predicted class for Writer 2: [2]\n",
      "<class 'numpy.ndarray'>\n"
     ]
    },
    {
     "data": {
      "image/png": "[encoded data removed]",
      "text/plain": [
       "<Figure size 640x480 with 1 Axes>"
      ]
     },
     "metadata": {},
     "output_type": "display_data"
    },
    {
     "data": {
      "image/png": "[encoded data removed]",
      "text/plain": [
       "<Figure size 640x480 with 1 Axes>"
      ]
     },
     "metadata": {},
     "output_type": "display_data"
    },
    {
     "name": "stdout",
     "output_type": "stream",
     "text": [
      "(480, 640, 3)\n",
      "\u001b[1m1/1\u001b[0m \u001b[32m━━━━━━━━━━━━━━━━━━━━\u001b[0m\u001b[37m\u001b[0m \u001b[1m0s\u001b[0m 15ms/step\n",
      "Predictions for Writer 3: [[0.0000000e+00 0.0000000e+00 0.0000000e+00 1.0000000e+00 1.0324914e-23\n",
      "  1.2535245e-24 0.0000000e+00 0.0000000e+00 3.5039662e-29 2.0941639e-16]]\n",
      "Predicted class for Writer 3: [3]\n"
     ]
    }
   ],
   "source": [
    "import matplotlib.pyplot as plt\n",
    "import numpy as np\n",
    "from keras.preprocessing import image\n",
    "\n",
    "\n",
    "def preprocess_image(img):\n",
    "    \n",
    "    #display the image\n",
    "    plt.imshow(img.squeeze(), cmap='gray')\n",
    "    plt.show()\n",
    "    img = cv2.resize(img, (28, 28))\n",
    "    img = cv2.cvtColor(img, cv2.COLOR_BGR2GRAY)\n",
    "  \n",
    "    img = cv2.GaussianBlur(img, (5,5), 0)\n",
    "    # img = cv2.GaussianBlur(img, (3,3), 0)\n",
    "   \n",
    "    img = img.reshape(1, 28, 28, 1)  \n",
    "    plt.imshow(img.squeeze(), cmap='gray')\n",
    "    plt.show()\n",
    "    return img\n",
    "\n",
    "fig, ax = plt.subplots()\n",
    "\n",
    "for i, Writer in enumerate(Writers):\n",
    "    new_img=np.zeros((480,640,3),dtype=np.uint8)\n",
    "    new_img = Writer.draw(new_img)\n",
    "    \n",
    "    print(type(new_img))\n",
    "    \n",
    "    processed_img = preprocess_image(new_img)\n",
    "    \n",
    "    if np.max(processed_img) == 0:  # Check if the image is totally black\n",
    "        continue  # Skip displaying the image if it's totally black\n",
    "    else:\n",
    "        \n",
    "        ax.imshow(cv2.cvtColor(new_img, cv2.COLOR_BGR2RGB))\n",
    "        print(new_img.shape)\n",
    "        \n",
    "        predictions = model.predict(processed_img)\n",
    "        print(f\"Predictions for Writer {i}: {predictions}\") \n",
    "        predicted_classes = np.argmax(predictions, axis=1)\n",
    "        print(f\"Predicted class for Writer {i}: {predicted_classes}\")\n",
    "    \n",
    "    # Add title and axis labels for each image\n",
    "    ax.set_title(f'Writer {i}')\n",
    "    ax.axis('off')\n",
    "    \n",
    "    # Display the current image\n",
    "    plt.show(block=False)\n",
    "    plt.pause(1)  # Pause for 1 second\n",
    "    \n",
    "    # Clear the current axis for the next image\n",
    "    ax.cla()\n",
    "\n",
    "# Close the plot window\n",
    "plt.close()"
   ]
  },
  {
   "cell_type": "markdown",
   "metadata": {},
   "source": [
    "# Enclosed area detection in images"
   ]
  },
  {
   "cell_type": "code",
   "execution_count": null,
   "metadata": {},
   "outputs": [],
   "source": [
    "# image = cv2.imread('image copy 6.png')\n",
    "\n",
    "\n",
    "\n",
    "# def detect_enclosed_areas(image_path):\n",
    "#     # Load the image in grayscale\n",
    "#     image = cv2.imread(image_path, cv2.IMREAD_GRAYSCALE)\n",
    "#     if image is None:\n",
    "#         print(\"Image not found\")\n",
    "#         return\n",
    "\n",
    "#     # Apply Gaussian blur to reduce noise\n",
    "#     blurred = cv2.GaussianBlur(image, (5, 5), 0)\n",
    "\n",
    "#     # Edge detection using Canny\n",
    "#     edges = cv2.Canny(blurred, 50, 150)\n",
    "\n",
    "#     # Find contours in the edged image\n",
    "#     contours, _ = cv2.findContours(edges, cv2.RETR_LIST, cv2.CHAIN_APPROX_SIMPLE)\n",
    "\n",
    "#     # Create an empty image to draw contours\n",
    "#     contour_image = np.zeros_like(image)\n",
    "\n",
    "#     # Draw all contours\n",
    "#     cv2.drawContours(contour_image, contours, -1, (255, 0, 0), 1)\n",
    "#     plt.axis('off')\n",
    "#     # Display the image with contours\n",
    "#     plt.imshow(contour_image, cmap='gray')\n",
    "#     plt.show()\n",
    "\n",
    "# if __name__ == \"__main__\":\n",
    "    \n",
    "#     detect_enclosed_areas('image copy 7.png')"
   ]
  },
  {
   "cell_type": "code",
   "execution_count": null,
   "metadata": {},
   "outputs": [],
   "source": [
    "# #destroy all windows\n",
    "# cv2.destroyAllWindows()"
   ]
  }
 ],
 "metadata": {
  "kernelspec": {
   "display_name": "Python 3",
   "language": "python",
   "name": "python3"
  },
  "language_info": {
   "codemirror_mode": {
    "name": "ipython",
    "version": 3
   },
   "file_extension": ".py",
   "mimetype": "text/x-python",
   "name": "python",
   "nbconvert_exporter": "python",
   "pygments_lexer": "ipython3",
   "version": "3.11.2"
  }
 },
 "nbformat": 4,
 "nbformat_minor": 2
}
